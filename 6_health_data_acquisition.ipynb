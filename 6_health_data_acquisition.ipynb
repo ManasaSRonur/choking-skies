{
 "cells": [
  {
   "cell_type": "markdown",
   "metadata": {},
   "source": [
    "### Goal\n",
    "\n",
    "This notebook is aimed at acquiring, cleaning, and preparing health and mortality related data for smoke impact analysis. The primary focus is on 3 diseases - Asthma, COPD (Chronic Obstrucitve Pulmonary Disease) and TB (Tuberculosis) metrics at the county level, such as emergency department visits, hospitalizations and death. Key operations include loading data from a CSV file, filtering it based on specific criteria (like county or metrics), and examining relevant trends. The ultimate goal is to create a clean and focused dataset for further statistical and exploratory analysis in relation to smoke from wildfire.\n",
    "\n",
    "### Licence\n",
    "\n",
    "The code in the notebook is licensed under standard [MIT licence](https://github.com/ManasaSRonur/data-512-project/blob/main/LICENSE)."
   ]
  },
  {
   "cell_type": "markdown",
   "metadata": {},
   "source": [
    "we import essential libraries - pandas for data manipulation and numpy for numerical computations, matplotlib for visualising the acquired data."
   ]
  },
  {
   "cell_type": "code",
   "execution_count": 1,
   "metadata": {},
   "outputs": [],
   "source": [
    "import pandas as pd\n",
    "import numpy as np\n",
    "import matplotlib.pyplot as plt\n"
   ]
  },
  {
   "cell_type": "markdown",
   "metadata": {},
   "source": [
    "We will load the asthma-related data from the csv file - [asthma-county.csv](https://github.com/ManasaSRonur/data-512-project/blob/main/input_files/asthma-county.csv). The asthma dataset includes information on county wise asthma-related hospitalizations and emergency department visits across Wisconsin from 2000 - 2023. This information is generated based on the data originally sourced from Wisconsin Hospital Association Information Center and National Center for Health Statistics."
   ]
  },
  {
   "cell_type": "code",
   "execution_count": 2,
   "metadata": {},
   "outputs": [
    {
     "data": {
      "text/html": [
       "<div>\n",
       "<style scoped>\n",
       "    .dataframe tbody tr th:only-of-type {\n",
       "        vertical-align: middle;\n",
       "    }\n",
       "\n",
       "    .dataframe tbody tr th {\n",
       "        vertical-align: top;\n",
       "    }\n",
       "\n",
       "    .dataframe thead th {\n",
       "        text-align: right;\n",
       "    }\n",
       "</style>\n",
       "<table border=\"1\" class=\"dataframe\">\n",
       "  <thead>\n",
       "    <tr style=\"text-align: right;\">\n",
       "      <th></th>\n",
       "      <th>Fips</th>\n",
       "      <th>County</th>\n",
       "      <th>Topic</th>\n",
       "      <th>Year</th>\n",
       "      <th>Count</th>\n",
       "      <th>Crude Rate</th>\n",
       "      <th>State Count</th>\n",
       "      <th>State Crude Rate</th>\n",
       "    </tr>\n",
       "  </thead>\n",
       "  <tbody>\n",
       "    <tr>\n",
       "      <th>0</th>\n",
       "      <td>55001</td>\n",
       "      <td>Adams</td>\n",
       "      <td>Emergency Department Visits</td>\n",
       "      <td>2002</td>\n",
       "      <td>82</td>\n",
       "      <td>40.30</td>\n",
       "      <td>25844</td>\n",
       "      <td>47.45</td>\n",
       "    </tr>\n",
       "    <tr>\n",
       "      <th>1</th>\n",
       "      <td>55001</td>\n",
       "      <td>Adams</td>\n",
       "      <td>Emergency Department Visits</td>\n",
       "      <td>2003</td>\n",
       "      <td>93</td>\n",
       "      <td>45.84</td>\n",
       "      <td>27025</td>\n",
       "      <td>49.34</td>\n",
       "    </tr>\n",
       "    <tr>\n",
       "      <th>2</th>\n",
       "      <td>55001</td>\n",
       "      <td>Adams</td>\n",
       "      <td>Emergency Department Visits</td>\n",
       "      <td>2004</td>\n",
       "      <td>70</td>\n",
       "      <td>34.47</td>\n",
       "      <td>24992</td>\n",
       "      <td>45.35</td>\n",
       "    </tr>\n",
       "    <tr>\n",
       "      <th>3</th>\n",
       "      <td>55001</td>\n",
       "      <td>Adams</td>\n",
       "      <td>Emergency Department Visits</td>\n",
       "      <td>2005</td>\n",
       "      <td>57</td>\n",
       "      <td>27.60</td>\n",
       "      <td>25532</td>\n",
       "      <td>46.07</td>\n",
       "    </tr>\n",
       "    <tr>\n",
       "      <th>4</th>\n",
       "      <td>55001</td>\n",
       "      <td>Adams</td>\n",
       "      <td>Emergency Department Visits</td>\n",
       "      <td>2006</td>\n",
       "      <td>53</td>\n",
       "      <td>25.80</td>\n",
       "      <td>23791</td>\n",
       "      <td>42.70</td>\n",
       "    </tr>\n",
       "  </tbody>\n",
       "</table>\n",
       "</div>"
      ],
      "text/plain": [
       "    Fips County                        Topic  Year  Count  Crude Rate  \\\n",
       "0  55001  Adams  Emergency Department Visits  2002     82       40.30   \n",
       "1  55001  Adams  Emergency Department Visits  2003     93       45.84   \n",
       "2  55001  Adams  Emergency Department Visits  2004     70       34.47   \n",
       "3  55001  Adams  Emergency Department Visits  2005     57       27.60   \n",
       "4  55001  Adams  Emergency Department Visits  2006     53       25.80   \n",
       "\n",
       "   State Count  State Crude Rate  \n",
       "0        25844             47.45  \n",
       "1        27025             49.34  \n",
       "2        24992             45.35  \n",
       "3        25532             46.07  \n",
       "4        23791             42.70  "
      ]
     },
     "execution_count": 2,
     "metadata": {},
     "output_type": "execute_result"
    }
   ],
   "source": [
    "asthma_df = pd.read_csv('input_files/asthma-county.csv')\n",
    "asthma_df.head()"
   ]
  },
  {
   "cell_type": "markdown",
   "metadata": {},
   "source": [
    "Here Count is the number of cases or events.\n",
    "\n",
    "Crude rate is the number of cases or events divided by the total number of individuals at county level.\n",
    "\n",
    "State Crude Rate is the Crude Rate calculated at state level."
   ]
  },
  {
   "cell_type": "markdown",
   "metadata": {},
   "source": [
    "To proceed with our analysis, we will filter the data for Madison i.e Dane county."
   ]
  },
  {
   "cell_type": "code",
   "execution_count": 3,
   "metadata": {},
   "outputs": [
    {
     "data": {
      "text/html": [
       "<div>\n",
       "<style scoped>\n",
       "    .dataframe tbody tr th:only-of-type {\n",
       "        vertical-align: middle;\n",
       "    }\n",
       "\n",
       "    .dataframe tbody tr th {\n",
       "        vertical-align: top;\n",
       "    }\n",
       "\n",
       "    .dataframe thead th {\n",
       "        text-align: right;\n",
       "    }\n",
       "</style>\n",
       "<table border=\"1\" class=\"dataframe\">\n",
       "  <thead>\n",
       "    <tr style=\"text-align: right;\">\n",
       "      <th></th>\n",
       "      <th>Fips</th>\n",
       "      <th>County</th>\n",
       "      <th>Topic</th>\n",
       "      <th>Year</th>\n",
       "      <th>Count</th>\n",
       "      <th>Crude Rate</th>\n",
       "      <th>State Count</th>\n",
       "      <th>State Crude Rate</th>\n",
       "    </tr>\n",
       "  </thead>\n",
       "  <tbody>\n",
       "    <tr>\n",
       "      <th>264</th>\n",
       "      <td>55025</td>\n",
       "      <td>Dane</td>\n",
       "      <td>Emergency Department Visits</td>\n",
       "      <td>2002</td>\n",
       "      <td>1252</td>\n",
       "      <td>28.23</td>\n",
       "      <td>25844</td>\n",
       "      <td>47.45</td>\n",
       "    </tr>\n",
       "    <tr>\n",
       "      <th>265</th>\n",
       "      <td>55025</td>\n",
       "      <td>Dane</td>\n",
       "      <td>Emergency Department Visits</td>\n",
       "      <td>2003</td>\n",
       "      <td>1291</td>\n",
       "      <td>28.71</td>\n",
       "      <td>27025</td>\n",
       "      <td>49.34</td>\n",
       "    </tr>\n",
       "    <tr>\n",
       "      <th>266</th>\n",
       "      <td>55025</td>\n",
       "      <td>Dane</td>\n",
       "      <td>Emergency Department Visits</td>\n",
       "      <td>2004</td>\n",
       "      <td>1182</td>\n",
       "      <td>25.92</td>\n",
       "      <td>24992</td>\n",
       "      <td>45.35</td>\n",
       "    </tr>\n",
       "    <tr>\n",
       "      <th>267</th>\n",
       "      <td>55025</td>\n",
       "      <td>Dane</td>\n",
       "      <td>Emergency Department Visits</td>\n",
       "      <td>2005</td>\n",
       "      <td>1161</td>\n",
       "      <td>25.12</td>\n",
       "      <td>25532</td>\n",
       "      <td>46.07</td>\n",
       "    </tr>\n",
       "    <tr>\n",
       "      <th>268</th>\n",
       "      <td>55025</td>\n",
       "      <td>Dane</td>\n",
       "      <td>Emergency Department Visits</td>\n",
       "      <td>2006</td>\n",
       "      <td>998</td>\n",
       "      <td>21.29</td>\n",
       "      <td>23791</td>\n",
       "      <td>42.70</td>\n",
       "    </tr>\n",
       "  </tbody>\n",
       "</table>\n",
       "</div>"
      ],
      "text/plain": [
       "      Fips County                        Topic  Year  Count  Crude Rate  \\\n",
       "264  55025   Dane  Emergency Department Visits  2002   1252       28.23   \n",
       "265  55025   Dane  Emergency Department Visits  2003   1291       28.71   \n",
       "266  55025   Dane  Emergency Department Visits  2004   1182       25.92   \n",
       "267  55025   Dane  Emergency Department Visits  2005   1161       25.12   \n",
       "268  55025   Dane  Emergency Department Visits  2006    998       21.29   \n",
       "\n",
       "     State Count  State Crude Rate  \n",
       "264        25844             47.45  \n",
       "265        27025             49.34  \n",
       "266        24992             45.35  \n",
       "267        25532             46.07  \n",
       "268        23791             42.70  "
      ]
     },
     "execution_count": 3,
     "metadata": {},
     "output_type": "execute_result"
    }
   ],
   "source": [
    "# Filter for Dane county\n",
    "asthma_df = asthma_df[asthma_df['County'] == 'Dane']\n",
    "asthma_df.head()"
   ]
  },
  {
   "cell_type": "markdown",
   "metadata": {},
   "source": [
    "We will further analyse \"Topic\" column to understand the categories available such as Emergency Department Visits etc. Understanding the available topics ensures we select relevant ones for focused analysis and avoid irrelevant or redundant data."
   ]
  },
  {
   "cell_type": "code",
   "execution_count": 4,
   "metadata": {},
   "outputs": [
    {
     "data": {
      "text/plain": [
       "array(['Emergency Department Visits', 'Hospitalizations'], dtype=object)"
      ]
     },
     "execution_count": 4,
     "metadata": {},
     "output_type": "execute_result"
    }
   ],
   "source": [
    "asthma_df['Topic'].unique()"
   ]
  },
  {
   "cell_type": "markdown",
   "metadata": {},
   "source": [
    "For our analysis, we will exclude state level metrics as we are interested only in analysing the helath data in Madison, Dane county. \n",
    "\n",
    "The 'Emergency Department Visits' and 'Hospitalizations' metrics are available as separate records in the dataframe but for analysis it is convenient to have them as separate columns. so we will pivot the dataframe. Pivoting restructures the data by transforming Topic values into columns, creating separate fields for counts and crude rates of each topic. This ensures the data is well-organized for time-series analysis, with aggregation addressing any duplication or granularity issues."
   ]
  },
  {
   "cell_type": "code",
   "execution_count": 5,
   "metadata": {},
   "outputs": [
    {
     "data": {
      "text/html": [
       "<div>\n",
       "<style scoped>\n",
       "    .dataframe tbody tr th:only-of-type {\n",
       "        vertical-align: middle;\n",
       "    }\n",
       "\n",
       "    .dataframe tbody tr th {\n",
       "        vertical-align: top;\n",
       "    }\n",
       "\n",
       "    .dataframe thead th {\n",
       "        text-align: right;\n",
       "    }\n",
       "</style>\n",
       "<table border=\"1\" class=\"dataframe\">\n",
       "  <thead>\n",
       "    <tr style=\"text-align: right;\">\n",
       "      <th></th>\n",
       "      <th>Year</th>\n",
       "      <th>ER_count</th>\n",
       "      <th>Hosp_count</th>\n",
       "      <th>ER_crude_rate</th>\n",
       "      <th>Hosp_crude_rate</th>\n",
       "    </tr>\n",
       "  </thead>\n",
       "  <tbody>\n",
       "    <tr>\n",
       "      <th>0</th>\n",
       "      <td>2000</td>\n",
       "      <td>NaN</td>\n",
       "      <td>366.0</td>\n",
       "      <td>NaN</td>\n",
       "      <td>8.54</td>\n",
       "    </tr>\n",
       "    <tr>\n",
       "      <th>1</th>\n",
       "      <td>2001</td>\n",
       "      <td>NaN</td>\n",
       "      <td>344.0</td>\n",
       "      <td>NaN</td>\n",
       "      <td>7.89</td>\n",
       "    </tr>\n",
       "    <tr>\n",
       "      <th>2</th>\n",
       "      <td>2002</td>\n",
       "      <td>1252.0</td>\n",
       "      <td>299.0</td>\n",
       "      <td>28.23</td>\n",
       "      <td>6.74</td>\n",
       "    </tr>\n",
       "    <tr>\n",
       "      <th>3</th>\n",
       "      <td>2003</td>\n",
       "      <td>1291.0</td>\n",
       "      <td>315.0</td>\n",
       "      <td>28.71</td>\n",
       "      <td>7.01</td>\n",
       "    </tr>\n",
       "    <tr>\n",
       "      <th>4</th>\n",
       "      <td>2004</td>\n",
       "      <td>1182.0</td>\n",
       "      <td>284.0</td>\n",
       "      <td>25.92</td>\n",
       "      <td>6.23</td>\n",
       "    </tr>\n",
       "  </tbody>\n",
       "</table>\n",
       "</div>"
      ],
      "text/plain": [
       "   Year  ER_count  Hosp_count  ER_crude_rate  Hosp_crude_rate\n",
       "0  2000       NaN       366.0            NaN             8.54\n",
       "1  2001       NaN       344.0            NaN             7.89\n",
       "2  2002    1252.0       299.0          28.23             6.74\n",
       "3  2003    1291.0       315.0          28.71             7.01\n",
       "4  2004    1182.0       284.0          25.92             6.23"
      ]
     },
     "execution_count": 5,
     "metadata": {},
     "output_type": "execute_result"
    }
   ],
   "source": [
    "asthma_df = asthma_df[['Topic', 'Year', 'Count', 'Crude Rate']]\n",
    "\n",
    "# Pivoting the dataframe\n",
    "pivot_df = asthma_df.pivot_table(index=['Year'], \n",
    "                                 columns='Topic', \n",
    "                                 values=['Count', 'Crude Rate'], \n",
    "                                 aggfunc='sum')\n",
    "\n",
    "# Flattening the multi-level columns\n",
    "pivot_df.columns = ['ER_count', 'Hosp_count', 'ER_crude_rate', 'Hosp_crude_rate']\n",
    "pivot_df = pivot_df.reset_index()\n",
    "\n",
    "asthma_df = pivot_df\n",
    "\n",
    "asthma_df.head()\n"
   ]
  },
  {
   "cell_type": "markdown",
   "metadata": {},
   "source": [
    "The data looks organised for analysis. However instead of analysing the two individual metrics that may or may not overlap, we will create a new measure `Illness_crude_rate` combining ER and hospitalization data, that provides a more holistic view of asthma trends, eliminating the need to analyze each measure separately.\n",
    "\n",
    "Using both ER and hospitalization data, we compute a weighted average of their crude rates based on the respective counts. This approach is better than simple addition because it gives proportional importance to each measure, reflecting their actual contribution to the overall asthma illness rate. An edge case is when either of the metrics is not available , in such cases we simply assign the available metrics. From the data it is observed that ER data is missing for few records, so in such cases new measure is same as hospitalization metric.\n",
    "\n",
    "$$\n",
    "\\text{Illness\\_crude\\_rate} = \\frac{\n",
    "    (\\text{ER\\_crude\_rate} \\times \\text{ER\\_count}) + (\\text{Hosp\\_crude\\_rate} \\times \\text{Hosp\\_count})\n",
    "}{\n",
    "    \\text{ER\\_count} + \\text{Hosp\\_count}\n",
    "}\n",
    "$$\n",
    "\n",
    "\n",
    "Additionally choosing a single combined metric instead of multiple metrics helps handle multicollinearity in predictive model by reducing redundant variables in the dataset as these  metrics are highly related."
   ]
  },
  {
   "cell_type": "code",
   "execution_count": 6,
   "metadata": {},
   "outputs": [
    {
     "data": {
      "text/html": [
       "<div>\n",
       "<style scoped>\n",
       "    .dataframe tbody tr th:only-of-type {\n",
       "        vertical-align: middle;\n",
       "    }\n",
       "\n",
       "    .dataframe tbody tr th {\n",
       "        vertical-align: top;\n",
       "    }\n",
       "\n",
       "    .dataframe thead th {\n",
       "        text-align: right;\n",
       "    }\n",
       "</style>\n",
       "<table border=\"1\" class=\"dataframe\">\n",
       "  <thead>\n",
       "    <tr style=\"text-align: right;\">\n",
       "      <th></th>\n",
       "      <th>Year</th>\n",
       "      <th>Illness_crude_rate</th>\n",
       "    </tr>\n",
       "  </thead>\n",
       "  <tbody>\n",
       "    <tr>\n",
       "      <th>0</th>\n",
       "      <td>2000</td>\n",
       "      <td>8.540000</td>\n",
       "    </tr>\n",
       "    <tr>\n",
       "      <th>1</th>\n",
       "      <td>2001</td>\n",
       "      <td>7.890000</td>\n",
       "    </tr>\n",
       "    <tr>\n",
       "      <th>2</th>\n",
       "      <td>2002</td>\n",
       "      <td>24.087182</td>\n",
       "    </tr>\n",
       "    <tr>\n",
       "      <th>3</th>\n",
       "      <td>2003</td>\n",
       "      <td>24.453773</td>\n",
       "    </tr>\n",
       "    <tr>\n",
       "      <th>4</th>\n",
       "      <td>2004</td>\n",
       "      <td>22.105566</td>\n",
       "    </tr>\n",
       "  </tbody>\n",
       "</table>\n",
       "</div>"
      ],
      "text/plain": [
       "   Year  Illness_crude_rate\n",
       "0  2000            8.540000\n",
       "1  2001            7.890000\n",
       "2  2002           24.087182\n",
       "3  2003           24.453773\n",
       "4  2004           22.105566"
      ]
     },
     "execution_count": 6,
     "metadata": {},
     "output_type": "execute_result"
    }
   ],
   "source": [
    "# Calculate Illness Crude Rate\n",
    "asthma_df['Illness_crude_rate'] = np.where(\n",
    "    asthma_df['ER_count'].isna(),  # To handle null values in ER_count\n",
    "    asthma_df['Hosp_crude_rate'],  # Use Hosp_crude_rate as Total_crude_rate in this case\n",
    "    ( \n",
    "        (asthma_df['ER_crude_rate'] * asthma_df['ER_count']) +\n",
    "        (asthma_df['Hosp_crude_rate'] * asthma_df['Hosp_count'])\n",
    "    ) / (asthma_df['ER_count'] + asthma_df['Hosp_count'])\n",
    ")\n",
    "\n",
    "# Retain only required columns\n",
    "asthma_df = asthma_df[['Year','Illness_crude_rate']]\n",
    "asthma_df.head()"
   ]
  },
  {
   "cell_type": "markdown",
   "metadata": {},
   "source": [
    "To understand the data distribution, we will visualize the asthma incidents trend over time."
   ]
  },
  {
   "cell_type": "code",
   "execution_count": 7,
   "metadata": {},
   "outputs": [
    {
     "data": {
      "image/png": "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",
      "text/plain": [
       "<Figure size 1000x400 with 1 Axes>"
      ]
     },
     "metadata": {},
     "output_type": "display_data"
    }
   ],
   "source": [
    "plt.figure(figsize=(10, 4))\n",
    "\n",
    "# Plotting the line graph\n",
    "plt.plot(asthma_df['Year'], asthma_df['Illness_crude_rate'], marker='o', linestyle='-')\n",
    "\n",
    "# Adding titles and labels\n",
    "plt.title(\"Asthma Incidents Trend\")\n",
    "plt.xlabel(\"Year\")\n",
    "plt.ylabel(\"Asthma Crude Rate\")\n",
    "plt.show()"
   ]
  },
  {
   "cell_type": "markdown",
   "metadata": {},
   "source": [
    "One limitation of this dataset is that there is no information on mutually exclusiveness of the ER and hospitalization data. Since there is a chance that many ER visits later conver into hospitalization and vice versa, we do not know how this was handled while calculating metrics in the dataset."
   ]
  },
  {
   "cell_type": "markdown",
   "metadata": {},
   "source": [
    "We will load the COPD-related data from the csv file - [copd-county.csv](https://github.com/ManasaSRonur/data-512-project/blob/main/input_files/copd-county.csv). The COPD dataset includes information on county wise COPD-related hospitalizations and emergency department visits across Wisconsin from 2000 - 2023. This information is generated based on the data originally sourced from Wisconsin Hospital Association Information Center and National Center for Health Statistics."
   ]
  },
  {
   "cell_type": "code",
   "execution_count": 8,
   "metadata": {},
   "outputs": [
    {
     "data": {
      "text/html": [
       "<div>\n",
       "<style scoped>\n",
       "    .dataframe tbody tr th:only-of-type {\n",
       "        vertical-align: middle;\n",
       "    }\n",
       "\n",
       "    .dataframe tbody tr th {\n",
       "        vertical-align: top;\n",
       "    }\n",
       "\n",
       "    .dataframe thead th {\n",
       "        text-align: right;\n",
       "    }\n",
       "</style>\n",
       "<table border=\"1\" class=\"dataframe\">\n",
       "  <thead>\n",
       "    <tr style=\"text-align: right;\">\n",
       "      <th></th>\n",
       "      <th>FIPS</th>\n",
       "      <th>COUNTY</th>\n",
       "      <th>TOPIC</th>\n",
       "      <th>YEAR</th>\n",
       "      <th>COUNT</th>\n",
       "      <th>CRUDERATE</th>\n",
       "      <th>ST_COUNT</th>\n",
       "      <th>ST_CRUDERATE</th>\n",
       "    </tr>\n",
       "  </thead>\n",
       "  <tbody>\n",
       "    <tr>\n",
       "      <th>0</th>\n",
       "      <td>55001</td>\n",
       "      <td>Adams</td>\n",
       "      <td>Emergency Department Visits</td>\n",
       "      <td>2002</td>\n",
       "      <td>139</td>\n",
       "      <td>90.53</td>\n",
       "      <td>16086</td>\n",
       "      <td>45.51</td>\n",
       "    </tr>\n",
       "    <tr>\n",
       "      <th>1</th>\n",
       "      <td>55001</td>\n",
       "      <td>Adams</td>\n",
       "      <td>Emergency Department Visits</td>\n",
       "      <td>2003</td>\n",
       "      <td>93</td>\n",
       "      <td>60.32</td>\n",
       "      <td>16118</td>\n",
       "      <td>45.23</td>\n",
       "    </tr>\n",
       "    <tr>\n",
       "      <th>2</th>\n",
       "      <td>55001</td>\n",
       "      <td>Adams</td>\n",
       "      <td>Emergency Department Visits</td>\n",
       "      <td>2004</td>\n",
       "      <td>63</td>\n",
       "      <td>40.50</td>\n",
       "      <td>15446</td>\n",
       "      <td>42.95</td>\n",
       "    </tr>\n",
       "    <tr>\n",
       "      <th>3</th>\n",
       "      <td>55001</td>\n",
       "      <td>Adams</td>\n",
       "      <td>Emergency Department Visits</td>\n",
       "      <td>2005</td>\n",
       "      <td>118</td>\n",
       "      <td>73.70</td>\n",
       "      <td>17393</td>\n",
       "      <td>47.90</td>\n",
       "    </tr>\n",
       "    <tr>\n",
       "      <th>4</th>\n",
       "      <td>55001</td>\n",
       "      <td>Adams</td>\n",
       "      <td>Emergency Department Visits</td>\n",
       "      <td>2006</td>\n",
       "      <td>102</td>\n",
       "      <td>63.37</td>\n",
       "      <td>16394</td>\n",
       "      <td>44.74</td>\n",
       "    </tr>\n",
       "  </tbody>\n",
       "</table>\n",
       "</div>"
      ],
      "text/plain": [
       "    FIPS COUNTY                        TOPIC  YEAR  COUNT  CRUDERATE  \\\n",
       "0  55001  Adams  Emergency Department Visits  2002    139      90.53   \n",
       "1  55001  Adams  Emergency Department Visits  2003     93      60.32   \n",
       "2  55001  Adams  Emergency Department Visits  2004     63      40.50   \n",
       "3  55001  Adams  Emergency Department Visits  2005    118      73.70   \n",
       "4  55001  Adams  Emergency Department Visits  2006    102      63.37   \n",
       "\n",
       "   ST_COUNT  ST_CRUDERATE  \n",
       "0     16086         45.51  \n",
       "1     16118         45.23  \n",
       "2     15446         42.95  \n",
       "3     17393         47.90  \n",
       "4     16394         44.74  "
      ]
     },
     "execution_count": 8,
     "metadata": {},
     "output_type": "execute_result"
    }
   ],
   "source": [
    "copd_df = pd.read_csv('input_files/copd-county.csv')\n",
    "copd_df.head()"
   ]
  },
  {
   "cell_type": "markdown",
   "metadata": {},
   "source": [
    "The data structure and metric definitions are similar to asthma related except for the naming conventions of the fields. So we will apply the same data cleaning and processing steps as we did in Asthma dataset."
   ]
  },
  {
   "cell_type": "markdown",
   "metadata": {},
   "source": [
    "Filter the data only for Dane county."
   ]
  },
  {
   "cell_type": "code",
   "execution_count": 9,
   "metadata": {},
   "outputs": [
    {
     "data": {
      "text/html": [
       "<div>\n",
       "<style scoped>\n",
       "    .dataframe tbody tr th:only-of-type {\n",
       "        vertical-align: middle;\n",
       "    }\n",
       "\n",
       "    .dataframe tbody tr th {\n",
       "        vertical-align: top;\n",
       "    }\n",
       "\n",
       "    .dataframe thead th {\n",
       "        text-align: right;\n",
       "    }\n",
       "</style>\n",
       "<table border=\"1\" class=\"dataframe\">\n",
       "  <thead>\n",
       "    <tr style=\"text-align: right;\">\n",
       "      <th></th>\n",
       "      <th>FIPS</th>\n",
       "      <th>COUNTY</th>\n",
       "      <th>TOPIC</th>\n",
       "      <th>YEAR</th>\n",
       "      <th>COUNT</th>\n",
       "      <th>CRUDERATE</th>\n",
       "      <th>ST_COUNT</th>\n",
       "      <th>ST_CRUDERATE</th>\n",
       "    </tr>\n",
       "  </thead>\n",
       "  <tbody>\n",
       "    <tr>\n",
       "      <th>252</th>\n",
       "      <td>55025</td>\n",
       "      <td>Dane</td>\n",
       "      <td>Emergency Department Visits</td>\n",
       "      <td>2002</td>\n",
       "      <td>780</td>\n",
       "      <td>28.12</td>\n",
       "      <td>16086</td>\n",
       "      <td>45.51</td>\n",
       "    </tr>\n",
       "    <tr>\n",
       "      <th>253</th>\n",
       "      <td>55025</td>\n",
       "      <td>Dane</td>\n",
       "      <td>Emergency Department Visits</td>\n",
       "      <td>2003</td>\n",
       "      <td>747</td>\n",
       "      <td>26.55</td>\n",
       "      <td>16118</td>\n",
       "      <td>45.23</td>\n",
       "    </tr>\n",
       "    <tr>\n",
       "      <th>254</th>\n",
       "      <td>55025</td>\n",
       "      <td>Dane</td>\n",
       "      <td>Emergency Department Visits</td>\n",
       "      <td>2004</td>\n",
       "      <td>802</td>\n",
       "      <td>28.08</td>\n",
       "      <td>15446</td>\n",
       "      <td>42.95</td>\n",
       "    </tr>\n",
       "    <tr>\n",
       "      <th>255</th>\n",
       "      <td>55025</td>\n",
       "      <td>Dane</td>\n",
       "      <td>Emergency Department Visits</td>\n",
       "      <td>2005</td>\n",
       "      <td>780</td>\n",
       "      <td>26.87</td>\n",
       "      <td>17393</td>\n",
       "      <td>47.90</td>\n",
       "    </tr>\n",
       "    <tr>\n",
       "      <th>256</th>\n",
       "      <td>55025</td>\n",
       "      <td>Dane</td>\n",
       "      <td>Emergency Department Visits</td>\n",
       "      <td>2006</td>\n",
       "      <td>723</td>\n",
       "      <td>24.45</td>\n",
       "      <td>16394</td>\n",
       "      <td>44.74</td>\n",
       "    </tr>\n",
       "  </tbody>\n",
       "</table>\n",
       "</div>"
      ],
      "text/plain": [
       "      FIPS COUNTY                        TOPIC  YEAR  COUNT  CRUDERATE  \\\n",
       "252  55025   Dane  Emergency Department Visits  2002    780      28.12   \n",
       "253  55025   Dane  Emergency Department Visits  2003    747      26.55   \n",
       "254  55025   Dane  Emergency Department Visits  2004    802      28.08   \n",
       "255  55025   Dane  Emergency Department Visits  2005    780      26.87   \n",
       "256  55025   Dane  Emergency Department Visits  2006    723      24.45   \n",
       "\n",
       "     ST_COUNT  ST_CRUDERATE  \n",
       "252     16086         45.51  \n",
       "253     16118         45.23  \n",
       "254     15446         42.95  \n",
       "255     17393         47.90  \n",
       "256     16394         44.74  "
      ]
     },
     "execution_count": 9,
     "metadata": {},
     "output_type": "execute_result"
    }
   ],
   "source": [
    "# Filter for Dane county\n",
    "copd_df = copd_df[copd_df['COUNTY'] == 'Dane']\n",
    "copd_df.head()"
   ]
  },
  {
   "cell_type": "markdown",
   "metadata": {},
   "source": [
    "As mentioned earlier as in case of asthma dataset, here too we will exclude state level metrics and also create a new measure that provides holistic information."
   ]
  },
  {
   "cell_type": "code",
   "execution_count": 10,
   "metadata": {},
   "outputs": [
    {
     "data": {
      "text/html": [
       "<div>\n",
       "<style scoped>\n",
       "    .dataframe tbody tr th:only-of-type {\n",
       "        vertical-align: middle;\n",
       "    }\n",
       "\n",
       "    .dataframe tbody tr th {\n",
       "        vertical-align: top;\n",
       "    }\n",
       "\n",
       "    .dataframe thead th {\n",
       "        text-align: right;\n",
       "    }\n",
       "</style>\n",
       "<table border=\"1\" class=\"dataframe\">\n",
       "  <thead>\n",
       "    <tr style=\"text-align: right;\">\n",
       "      <th></th>\n",
       "      <th>Year</th>\n",
       "      <th>Illness_crude_rate</th>\n",
       "    </tr>\n",
       "  </thead>\n",
       "  <tbody>\n",
       "    <tr>\n",
       "      <th>0</th>\n",
       "      <td>2000</td>\n",
       "      <td>14.260000</td>\n",
       "    </tr>\n",
       "    <tr>\n",
       "      <th>1</th>\n",
       "      <td>2001</td>\n",
       "      <td>13.900000</td>\n",
       "    </tr>\n",
       "    <tr>\n",
       "      <th>2</th>\n",
       "      <td>2002</td>\n",
       "      <td>23.530327</td>\n",
       "    </tr>\n",
       "    <tr>\n",
       "      <th>3</th>\n",
       "      <td>2003</td>\n",
       "      <td>22.147407</td>\n",
       "    </tr>\n",
       "    <tr>\n",
       "      <th>4</th>\n",
       "      <td>2004</td>\n",
       "      <td>23.271017</td>\n",
       "    </tr>\n",
       "  </tbody>\n",
       "</table>\n",
       "</div>"
      ],
      "text/plain": [
       "   Year  Illness_crude_rate\n",
       "0  2000           14.260000\n",
       "1  2001           13.900000\n",
       "2  2002           23.530327\n",
       "3  2003           22.147407\n",
       "4  2004           23.271017"
      ]
     },
     "execution_count": 10,
     "metadata": {},
     "output_type": "execute_result"
    }
   ],
   "source": [
    "copd_df = copd_df[['TOPIC', 'YEAR', 'COUNT', 'CRUDERATE']]\n",
    "\n",
    "# Pivoting the dataframe\n",
    "pivot_df = copd_df.pivot_table(index=['YEAR'], \n",
    "                                 columns='TOPIC', \n",
    "                                 values=['COUNT', 'CRUDERATE'], \n",
    "                                 aggfunc='sum')\n",
    "\n",
    "# Flattening the multi-level columns\n",
    "pivot_df.columns = ['ER_count', 'Hosp_count', 'ER_crude_rate', 'Hosp_crude_rate']\n",
    "pivot_df = pivot_df.reset_index()\n",
    "\n",
    "copd_df = pivot_df\n",
    "copd_df.head()\n",
    "\n",
    "#  Calculate Illness Crude Rate\n",
    "copd_df['Illness_crude_rate'] = np.where(\n",
    "    copd_df['ER_count'].isna(),  # To handle null values in ER_count\n",
    "    copd_df['Hosp_crude_rate'],  # Use Hosp_crude_rate as Total_crude_rate in this case\n",
    "    ( \n",
    "        (copd_df['ER_crude_rate'] * copd_df['ER_count']) +\n",
    "        (copd_df['Hosp_crude_rate'] * copd_df['Hosp_count'])\n",
    "    ) / (copd_df['ER_count'] + copd_df['Hosp_count'])\n",
    ")\n",
    "\n",
    "# Retain only required columns\n",
    "copd_df = copd_df[['YEAR','Illness_crude_rate']]\n",
    "copd_df = copd_df.rename(columns={'YEAR': 'Year'})\n",
    "copd_df.head()"
   ]
  },
  {
   "cell_type": "markdown",
   "metadata": {},
   "source": [
    "To understand the data distribution, we will visualize the copd incidents trend over time."
   ]
  },
  {
   "cell_type": "code",
   "execution_count": 11,
   "metadata": {},
   "outputs": [
    {
     "data": {
      "image/png": "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",
      "text/plain": [
       "<Figure size 1000x400 with 1 Axes>"
      ]
     },
     "metadata": {},
     "output_type": "display_data"
    }
   ],
   "source": [
    "plt.figure(figsize=(10, 4))\n",
    "\n",
    "# Plotting the line graph\n",
    "plt.plot(copd_df['Year'], copd_df['Illness_crude_rate'], marker='o', linestyle='-')\n",
    "\n",
    "# Adding titles and labels\n",
    "plt.title(\"COPD (Chronic Obstructive Pulmonary Disease) Incidents Trend\")\n",
    "plt.xlabel(\"Year\")\n",
    "plt.ylabel(\"COPD Crude Rate\")\n",
    "plt.show()"
   ]
  },
  {
   "cell_type": "markdown",
   "metadata": {},
   "source": [
    "We will now load the Tuberculosis-related data from the csv file - [tb-county.csv](https://github.com/ManasaSRonur/data-512-project/blob/main/input_files/tb-county.csv) . This dataset tracks the tuberculosis cases in Wisconsin from 2014 to 2023 and is sourced from Wisconsin Department of Health Services. The limitation of this dataset is that we have do not have dta prior to 2014, which makes this a poor candidate for predictive modelling."
   ]
  },
  {
   "cell_type": "code",
   "execution_count": 12,
   "metadata": {},
   "outputs": [
    {
     "data": {
      "text/html": [
       "<div>\n",
       "<style scoped>\n",
       "    .dataframe tbody tr th:only-of-type {\n",
       "        vertical-align: middle;\n",
       "    }\n",
       "\n",
       "    .dataframe tbody tr th {\n",
       "        vertical-align: top;\n",
       "    }\n",
       "\n",
       "    .dataframe thead th {\n",
       "        text-align: right;\n",
       "    }\n",
       "</style>\n",
       "<table border=\"1\" class=\"dataframe\">\n",
       "  <thead>\n",
       "    <tr style=\"text-align: right;\">\n",
       "      <th></th>\n",
       "      <th>County</th>\n",
       "      <th>Year</th>\n",
       "      <th>Cases</th>\n",
       "    </tr>\n",
       "  </thead>\n",
       "  <tbody>\n",
       "    <tr>\n",
       "      <th>0</th>\n",
       "      <td>Adams</td>\n",
       "      <td>2014</td>\n",
       "      <td>0</td>\n",
       "    </tr>\n",
       "    <tr>\n",
       "      <th>1</th>\n",
       "      <td>Adams</td>\n",
       "      <td>2015</td>\n",
       "      <td>0</td>\n",
       "    </tr>\n",
       "    <tr>\n",
       "      <th>2</th>\n",
       "      <td>Adams</td>\n",
       "      <td>2016</td>\n",
       "      <td>0</td>\n",
       "    </tr>\n",
       "    <tr>\n",
       "      <th>3</th>\n",
       "      <td>Adams</td>\n",
       "      <td>2017</td>\n",
       "      <td>0</td>\n",
       "    </tr>\n",
       "    <tr>\n",
       "      <th>4</th>\n",
       "      <td>Adams</td>\n",
       "      <td>2018</td>\n",
       "      <td>0</td>\n",
       "    </tr>\n",
       "  </tbody>\n",
       "</table>\n",
       "</div>"
      ],
      "text/plain": [
       "  County  Year  Cases\n",
       "0  Adams  2014      0\n",
       "1  Adams  2015      0\n",
       "2  Adams  2016      0\n",
       "3  Adams  2017      0\n",
       "4  Adams  2018      0"
      ]
     },
     "execution_count": 12,
     "metadata": {},
     "output_type": "execute_result"
    }
   ],
   "source": [
    "tb_df = pd.read_csv('input_files/tb-county.csv')\n",
    "tb_df.head()"
   ]
  },
  {
   "cell_type": "markdown",
   "metadata": {},
   "source": [
    "For our analysis, we will filter the data for Dane county and keep only Year and Cases field."
   ]
  },
  {
   "cell_type": "code",
   "execution_count": 13,
   "metadata": {},
   "outputs": [
    {
     "data": {
      "text/html": [
       "<div>\n",
       "<style scoped>\n",
       "    .dataframe tbody tr th:only-of-type {\n",
       "        vertical-align: middle;\n",
       "    }\n",
       "\n",
       "    .dataframe tbody tr th {\n",
       "        vertical-align: top;\n",
       "    }\n",
       "\n",
       "    .dataframe thead th {\n",
       "        text-align: right;\n",
       "    }\n",
       "</style>\n",
       "<table border=\"1\" class=\"dataframe\">\n",
       "  <thead>\n",
       "    <tr style=\"text-align: right;\">\n",
       "      <th></th>\n",
       "      <th>Year</th>\n",
       "      <th>Cases_tb</th>\n",
       "    </tr>\n",
       "  </thead>\n",
       "  <tbody>\n",
       "    <tr>\n",
       "      <th>30</th>\n",
       "      <td>2014</td>\n",
       "      <td>7</td>\n",
       "    </tr>\n",
       "    <tr>\n",
       "      <th>31</th>\n",
       "      <td>2015</td>\n",
       "      <td>7</td>\n",
       "    </tr>\n",
       "    <tr>\n",
       "      <th>32</th>\n",
       "      <td>2016</td>\n",
       "      <td>8</td>\n",
       "    </tr>\n",
       "    <tr>\n",
       "      <th>33</th>\n",
       "      <td>2017</td>\n",
       "      <td>8</td>\n",
       "    </tr>\n",
       "    <tr>\n",
       "      <th>34</th>\n",
       "      <td>2018</td>\n",
       "      <td>7</td>\n",
       "    </tr>\n",
       "  </tbody>\n",
       "</table>\n",
       "</div>"
      ],
      "text/plain": [
       "    Year  Cases_tb\n",
       "30  2014         7\n",
       "31  2015         7\n",
       "32  2016         8\n",
       "33  2017         8\n",
       "34  2018         7"
      ]
     },
     "execution_count": 13,
     "metadata": {},
     "output_type": "execute_result"
    }
   ],
   "source": [
    "# Filter for Dane county\n",
    "tb_df = tb_df[tb_df['County'] == 'Dane']\n",
    "tb_df = tb_df[['Year','Cases']]\n",
    "tb_df = tb_df.rename(columns={'Cases': 'Cases_tb'})\n",
    "tb_df.head()"
   ]
  },
  {
   "cell_type": "markdown",
   "metadata": {},
   "source": [
    "To understand the data distribution, we will visualize the copd incidents trend over time."
   ]
  },
  {
   "cell_type": "code",
   "execution_count": 14,
   "metadata": {},
   "outputs": [
    {
     "data": {
      "image/png": "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",
      "text/plain": [
       "<Figure size 1000x400 with 1 Axes>"
      ]
     },
     "metadata": {},
     "output_type": "display_data"
    }
   ],
   "source": [
    "plt.figure(figsize=(10, 4))\n",
    "\n",
    "# Plotting the line graph\n",
    "plt.plot(tb_df['Year'], tb_df['Cases_tb'], marker='o', linestyle='-')\n",
    "\n",
    "# Adding titles and labels\n",
    "plt.title(\"Tuberculosis Incidents Trend\")\n",
    "plt.xlabel(\"Year\")\n",
    "plt.ylabel(\"Tuberculosis Crude Rate\")\n",
    "plt.show()"
   ]
  },
  {
   "cell_type": "markdown",
   "metadata": {},
   "source": [
    "So far, we acquired the respiratory diseases incident data, we will now work on mortality data for the same set of respiratory diseases loaded from the csv file - [IHME-GBD_2021_DATA](https://github.com/ManasaSRonur/data-512-project/blob/main/input_files/IHME-GBD_2021_DATA.csv).  The input dataset provides extensive data on mortality rates attributed to a variety of respiratory illnesses, including asthma, COPD, and TB, segmented by factors such as age and sex for the Wisconsin region for period 1980 - 2021. One limitation is that, unlike the asthma or copd illness incidents data, this one is available at state level and not county level."
   ]
  },
  {
   "cell_type": "code",
   "execution_count": 15,
   "metadata": {},
   "outputs": [
    {
     "data": {
      "text/html": [
       "<div>\n",
       "<style scoped>\n",
       "    .dataframe tbody tr th:only-of-type {\n",
       "        vertical-align: middle;\n",
       "    }\n",
       "\n",
       "    .dataframe tbody tr th {\n",
       "        vertical-align: top;\n",
       "    }\n",
       "\n",
       "    .dataframe thead th {\n",
       "        text-align: right;\n",
       "    }\n",
       "</style>\n",
       "<table border=\"1\" class=\"dataframe\">\n",
       "  <thead>\n",
       "    <tr style=\"text-align: right;\">\n",
       "      <th></th>\n",
       "      <th>measure</th>\n",
       "      <th>location</th>\n",
       "      <th>sex</th>\n",
       "      <th>age</th>\n",
       "      <th>cause</th>\n",
       "      <th>metric</th>\n",
       "      <th>year</th>\n",
       "      <th>val</th>\n",
       "      <th>upper</th>\n",
       "      <th>lower</th>\n",
       "    </tr>\n",
       "  </thead>\n",
       "  <tbody>\n",
       "    <tr>\n",
       "      <th>0</th>\n",
       "      <td>Deaths</td>\n",
       "      <td>Wisconsin</td>\n",
       "      <td>Both</td>\n",
       "      <td>All ages</td>\n",
       "      <td>Tuberculosis</td>\n",
       "      <td>Number</td>\n",
       "      <td>1980</td>\n",
       "      <td>35.266869</td>\n",
       "      <td>38.254764</td>\n",
       "      <td>32.048993</td>\n",
       "    </tr>\n",
       "    <tr>\n",
       "      <th>1</th>\n",
       "      <td>Deaths</td>\n",
       "      <td>Wisconsin</td>\n",
       "      <td>Both</td>\n",
       "      <td>All ages</td>\n",
       "      <td>Tuberculosis</td>\n",
       "      <td>Percent</td>\n",
       "      <td>1980</td>\n",
       "      <td>0.000874</td>\n",
       "      <td>0.000945</td>\n",
       "      <td>0.000796</td>\n",
       "    </tr>\n",
       "    <tr>\n",
       "      <th>2</th>\n",
       "      <td>Deaths</td>\n",
       "      <td>Wisconsin</td>\n",
       "      <td>Both</td>\n",
       "      <td>All ages</td>\n",
       "      <td>Chronic obstructive pulmonary disease</td>\n",
       "      <td>Number</td>\n",
       "      <td>1980</td>\n",
       "      <td>1054.947563</td>\n",
       "      <td>1124.271566</td>\n",
       "      <td>972.031609</td>\n",
       "    </tr>\n",
       "    <tr>\n",
       "      <th>3</th>\n",
       "      <td>Deaths</td>\n",
       "      <td>Wisconsin</td>\n",
       "      <td>Both</td>\n",
       "      <td>All ages</td>\n",
       "      <td>Chronic obstructive pulmonary disease</td>\n",
       "      <td>Percent</td>\n",
       "      <td>1980</td>\n",
       "      <td>0.026140</td>\n",
       "      <td>0.027665</td>\n",
       "      <td>0.024102</td>\n",
       "    </tr>\n",
       "    <tr>\n",
       "      <th>4</th>\n",
       "      <td>Deaths</td>\n",
       "      <td>Wisconsin</td>\n",
       "      <td>Both</td>\n",
       "      <td>All ages</td>\n",
       "      <td>Asthma</td>\n",
       "      <td>Number</td>\n",
       "      <td>1980</td>\n",
       "      <td>57.460534</td>\n",
       "      <td>61.718510</td>\n",
       "      <td>53.305347</td>\n",
       "    </tr>\n",
       "  </tbody>\n",
       "</table>\n",
       "</div>"
      ],
      "text/plain": [
       "  measure   location   sex       age                                  cause  \\\n",
       "0  Deaths  Wisconsin  Both  All ages                           Tuberculosis   \n",
       "1  Deaths  Wisconsin  Both  All ages                           Tuberculosis   \n",
       "2  Deaths  Wisconsin  Both  All ages  Chronic obstructive pulmonary disease   \n",
       "3  Deaths  Wisconsin  Both  All ages  Chronic obstructive pulmonary disease   \n",
       "4  Deaths  Wisconsin  Both  All ages                                 Asthma   \n",
       "\n",
       "    metric  year          val        upper       lower  \n",
       "0   Number  1980    35.266869    38.254764   32.048993  \n",
       "1  Percent  1980     0.000874     0.000945    0.000796  \n",
       "2   Number  1980  1054.947563  1124.271566  972.031609  \n",
       "3  Percent  1980     0.026140     0.027665    0.024102  \n",
       "4   Number  1980    57.460534    61.718510   53.305347  "
      ]
     },
     "execution_count": 15,
     "metadata": {},
     "output_type": "execute_result"
    }
   ],
   "source": [
    "mortality_df = pd.read_csv('input_files/IHME-GBD_2021_DATA.csv')\n",
    "mortality_df.head()"
   ]
  },
  {
   "cell_type": "markdown",
   "metadata": {},
   "source": [
    "The metric and cause have mutiple values that we might be interested in, so we will analyse the list to understand the data."
   ]
  },
  {
   "cell_type": "code",
   "execution_count": 16,
   "metadata": {},
   "outputs": [
    {
     "data": {
      "text/plain": [
       "array(['Number', 'Percent'], dtype=object)"
      ]
     },
     "execution_count": 16,
     "metadata": {},
     "output_type": "execute_result"
    }
   ],
   "source": [
    "mortality_df['metric'].unique()"
   ]
  },
  {
   "cell_type": "markdown",
   "metadata": {},
   "source": [
    "`Number` - Number of deaths in the population.\n",
    "\n",
    "`Percent` - Proportion of deaths for a particular cause relative to deaths from all causes.\n",
    "\n",
    "For this analysis, using \"percent\" instead of \"number\" is beneficial because it standardizes the data, making it easier to compare across different timelines, regardless of size. It helps focus on the relative burden of respiratory health issues, providing a clearer picture of its impact. Percentages account for changes in population size, ensuring that the data reflects the true share of deaths linked to the selected diseases. This is important because in cities like Madison where population size fluctuates largely (due to migration, seasonal shifts, etc.), the total number of deaths can vary significantly skewing the analysis. So percent is more useful for identifying trends and understanding the proportion of mortality attributed to these diseases.\n",
    "\n",
    "Additionally choosing a single metric instead of both helps handle multicollinearity in predictive model by reducing redundant variables in the dataset as these two metrics are highly related."
   ]
  },
  {
   "cell_type": "code",
   "execution_count": 17,
   "metadata": {},
   "outputs": [
    {
     "data": {
      "text/plain": [
       "array(['Tuberculosis', 'Chronic obstructive pulmonary disease', 'Asthma'],\n",
       "      dtype=object)"
      ]
     },
     "execution_count": 17,
     "metadata": {},
     "output_type": "execute_result"
    }
   ],
   "source": [
    "mortality_df = mortality_df[mortality_df['metric']=='Percent']\n",
    "mortality_df['cause'].unique()"
   ]
  },
  {
   "cell_type": "markdown",
   "metadata": {},
   "source": [
    "We will retain all the causes as these are the ones we are interested in analysing the impact of smoke on."
   ]
  },
  {
   "cell_type": "markdown",
   "metadata": {},
   "source": [
    "This dataframe needs to be adjusted for analysis. Pivoting the dataframe on `cause` and `metric` allows for the combination of multiple variables into individual columns, making it easier to compare different causes and metrics across years. This alignment allows for direct comparisons, trend analysis, and ensures that calculations like averages or totals can be performed efficiently without needing to filter or reshape the data repeatedly."
   ]
  },
  {
   "cell_type": "code",
   "execution_count": 18,
   "metadata": {},
   "outputs": [
    {
     "data": {
      "text/html": [
       "<div>\n",
       "<style scoped>\n",
       "    .dataframe tbody tr th:only-of-type {\n",
       "        vertical-align: middle;\n",
       "    }\n",
       "\n",
       "    .dataframe tbody tr th {\n",
       "        vertical-align: top;\n",
       "    }\n",
       "\n",
       "    .dataframe thead th {\n",
       "        text-align: right;\n",
       "    }\n",
       "</style>\n",
       "<table border=\"1\" class=\"dataframe\">\n",
       "  <thead>\n",
       "    <tr style=\"text-align: right;\">\n",
       "      <th></th>\n",
       "      <th>year</th>\n",
       "      <th>Asthma_Percent</th>\n",
       "      <th>Chronic obstructive pulmonary disease_Percent</th>\n",
       "      <th>Tuberculosis_Percent</th>\n",
       "    </tr>\n",
       "  </thead>\n",
       "  <tbody>\n",
       "    <tr>\n",
       "      <th>0</th>\n",
       "      <td>1980</td>\n",
       "      <td>0.001424</td>\n",
       "      <td>0.026140</td>\n",
       "      <td>0.000874</td>\n",
       "    </tr>\n",
       "    <tr>\n",
       "      <th>1</th>\n",
       "      <td>1981</td>\n",
       "      <td>0.001468</td>\n",
       "      <td>0.026540</td>\n",
       "      <td>0.000825</td>\n",
       "    </tr>\n",
       "    <tr>\n",
       "      <th>2</th>\n",
       "      <td>1982</td>\n",
       "      <td>0.001598</td>\n",
       "      <td>0.028009</td>\n",
       "      <td>0.000793</td>\n",
       "    </tr>\n",
       "    <tr>\n",
       "      <th>3</th>\n",
       "      <td>1983</td>\n",
       "      <td>0.001683</td>\n",
       "      <td>0.030531</td>\n",
       "      <td>0.000764</td>\n",
       "    </tr>\n",
       "    <tr>\n",
       "      <th>4</th>\n",
       "      <td>1984</td>\n",
       "      <td>0.001744</td>\n",
       "      <td>0.031926</td>\n",
       "      <td>0.000720</td>\n",
       "    </tr>\n",
       "  </tbody>\n",
       "</table>\n",
       "</div>"
      ],
      "text/plain": [
       "   year  Asthma_Percent  Chronic obstructive pulmonary disease_Percent  \\\n",
       "0  1980        0.001424                                       0.026140   \n",
       "1  1981        0.001468                                       0.026540   \n",
       "2  1982        0.001598                                       0.028009   \n",
       "3  1983        0.001683                                       0.030531   \n",
       "4  1984        0.001744                                       0.031926   \n",
       "\n",
       "   Tuberculosis_Percent  \n",
       "0              0.000874  \n",
       "1              0.000825  \n",
       "2              0.000793  \n",
       "3              0.000764  \n",
       "4              0.000720  "
      ]
     },
     "execution_count": 18,
     "metadata": {},
     "output_type": "execute_result"
    }
   ],
   "source": [
    "# Pivoting the dataframe\n",
    "pivot_df = mortality_df.pivot_table(index=['year'], \n",
    "                                    columns=['cause','metric'], \n",
    "                                    values='val', \n",
    "                                    aggfunc='first')  # Using 'first' in case there are duplicate rows\n",
    "\n",
    "# Renaming the columns to create desired names\n",
    "pivot_df.columns = [f'{cause}_{metric}' for cause, metric in pivot_df.columns]\n",
    "\n",
    "pivot_df = pivot_df.reset_index()\n",
    "\n",
    "mortality_df = pivot_df\n",
    "mortality_df.head()\n",
    "\n"
   ]
  },
  {
   "cell_type": "markdown",
   "metadata": {},
   "source": [
    "We now have the data in the structured format ready to be used for analysis. Few columns are renamed for consistency."
   ]
  },
  {
   "cell_type": "code",
   "execution_count": 19,
   "metadata": {},
   "outputs": [
    {
     "data": {
      "text/html": [
       "<div>\n",
       "<style scoped>\n",
       "    .dataframe tbody tr th:only-of-type {\n",
       "        vertical-align: middle;\n",
       "    }\n",
       "\n",
       "    .dataframe tbody tr th {\n",
       "        vertical-align: top;\n",
       "    }\n",
       "\n",
       "    .dataframe thead th {\n",
       "        text-align: right;\n",
       "    }\n",
       "</style>\n",
       "<table border=\"1\" class=\"dataframe\">\n",
       "  <thead>\n",
       "    <tr style=\"text-align: right;\">\n",
       "      <th></th>\n",
       "      <th>Year</th>\n",
       "      <th>Death_percent_asthma</th>\n",
       "      <th>Death_percent_copd</th>\n",
       "      <th>Death_percent_tb</th>\n",
       "    </tr>\n",
       "  </thead>\n",
       "  <tbody>\n",
       "    <tr>\n",
       "      <th>0</th>\n",
       "      <td>1980</td>\n",
       "      <td>0.001424</td>\n",
       "      <td>0.026140</td>\n",
       "      <td>0.000874</td>\n",
       "    </tr>\n",
       "    <tr>\n",
       "      <th>1</th>\n",
       "      <td>1981</td>\n",
       "      <td>0.001468</td>\n",
       "      <td>0.026540</td>\n",
       "      <td>0.000825</td>\n",
       "    </tr>\n",
       "    <tr>\n",
       "      <th>2</th>\n",
       "      <td>1982</td>\n",
       "      <td>0.001598</td>\n",
       "      <td>0.028009</td>\n",
       "      <td>0.000793</td>\n",
       "    </tr>\n",
       "    <tr>\n",
       "      <th>3</th>\n",
       "      <td>1983</td>\n",
       "      <td>0.001683</td>\n",
       "      <td>0.030531</td>\n",
       "      <td>0.000764</td>\n",
       "    </tr>\n",
       "    <tr>\n",
       "      <th>4</th>\n",
       "      <td>1984</td>\n",
       "      <td>0.001744</td>\n",
       "      <td>0.031926</td>\n",
       "      <td>0.000720</td>\n",
       "    </tr>\n",
       "  </tbody>\n",
       "</table>\n",
       "</div>"
      ],
      "text/plain": [
       "   Year  Death_percent_asthma  Death_percent_copd  Death_percent_tb\n",
       "0  1980              0.001424            0.026140          0.000874\n",
       "1  1981              0.001468            0.026540          0.000825\n",
       "2  1982              0.001598            0.028009          0.000793\n",
       "3  1983              0.001683            0.030531          0.000764\n",
       "4  1984              0.001744            0.031926          0.000720"
      ]
     },
     "execution_count": 19,
     "metadata": {},
     "output_type": "execute_result"
    }
   ],
   "source": [
    "# Rename columns for consistency\n",
    "mortality_df = mortality_df.rename(columns={\n",
    "    'Chronic obstructive pulmonary disease_Percent': 'Death_percent_copd',\n",
    "    'Tuberculosis_Percent': 'Death_percent_tb',\n",
    "    'Asthma_Percent': 'Death_percent_asthma',\n",
    "    'year': 'Year'\n",
    "})\n",
    "mortality_df.head()"
   ]
  },
  {
   "cell_type": "markdown",
   "metadata": {},
   "source": [
    "To understand the data distribution, we will visualize the copd incidents trend over time."
   ]
  },
  {
   "cell_type": "code",
   "execution_count": 20,
   "metadata": {},
   "outputs": [
    {
     "data": {
      "image/png": "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",
      "text/plain": [
       "<Figure size 1000x1000 with 3 Axes>"
      ]
     },
     "metadata": {},
     "output_type": "display_data"
    }
   ],
   "source": [
    "# Create a figure with subplots\n",
    "fig, axs = plt.subplots(3, 1, figsize=(10, 10))\n",
    "\n",
    "# Plotting the line graph for Asthma mortality trend\n",
    "axs[0].plot(mortality_df['Year'], mortality_df['Death_percent_asthma'], marker='.', linestyle='-')\n",
    "axs[0].set_title(\"Asthma Mortality Trend\")\n",
    "axs[0].set_xlabel(\"Year\")\n",
    "axs[0].set_ylabel(\"Asthma Crude Rate\")\n",
    "\n",
    "# Plotting the line graph for COPD mortality trend\n",
    "axs[1].plot(mortality_df['Year'], mortality_df['Death_percent_copd'], marker='.', linestyle='-')\n",
    "axs[1].set_title(\"COPD Mortality Trend\")\n",
    "axs[1].set_xlabel(\"Year\")\n",
    "axs[1].set_ylabel(\"COPD Crude Rate\")\n",
    "\n",
    "# Plotting the line graph for TB mortality trend\n",
    "axs[2].plot(mortality_df['Year'], mortality_df['Death_percent_tb'], marker='.', linestyle='-')\n",
    "axs[2].set_title(\"TB Mortality Trend\")\n",
    "axs[2].set_xlabel(\"Year\")\n",
    "axs[2].set_ylabel(\"TB Crude Rate\")\n",
    "\n",
    "plt.tight_layout()\n",
    "plt.show()\n"
   ]
  },
  {
   "cell_type": "markdown",
   "metadata": {},
   "source": [
    "While it is nice that we have data for mortality from 1980, the end date is 2021. we do not have data beyond this i.e no data from 2022, 2023. This must be handled carefully while analysing and modelling as we have illness incidents data till 2023."
   ]
  },
  {
   "cell_type": "markdown",
   "metadata": {},
   "source": [
    "Our ultimate goal is to understand the impact of smoke from wildfire on the public health especially in the respiratory health sector. To achieve this we will need both illlness incidents and mofrtality data in a single dataset. so we will combine all the 4 datasets that we have processed so far into a single dataset."
   ]
  },
  {
   "cell_type": "code",
   "execution_count": 21,
   "metadata": {},
   "outputs": [
    {
     "data": {
      "text/html": [
       "<div>\n",
       "<style scoped>\n",
       "    .dataframe tbody tr th:only-of-type {\n",
       "        vertical-align: middle;\n",
       "    }\n",
       "\n",
       "    .dataframe tbody tr th {\n",
       "        vertical-align: top;\n",
       "    }\n",
       "\n",
       "    .dataframe thead th {\n",
       "        text-align: right;\n",
       "    }\n",
       "</style>\n",
       "<table border=\"1\" class=\"dataframe\">\n",
       "  <thead>\n",
       "    <tr style=\"text-align: right;\">\n",
       "      <th></th>\n",
       "      <th>Year</th>\n",
       "      <th>Illness_crude_rate_asthma</th>\n",
       "      <th>Illness_crude_rate_copd</th>\n",
       "      <th>Cases_tb</th>\n",
       "      <th>Death_percent_asthma</th>\n",
       "      <th>Death_percent_copd</th>\n",
       "      <th>Death_percent_tb</th>\n",
       "    </tr>\n",
       "  </thead>\n",
       "  <tbody>\n",
       "    <tr>\n",
       "      <th>0</th>\n",
       "      <td>1980</td>\n",
       "      <td>NaN</td>\n",
       "      <td>NaN</td>\n",
       "      <td>NaN</td>\n",
       "      <td>0.001424</td>\n",
       "      <td>0.026140</td>\n",
       "      <td>0.000874</td>\n",
       "    </tr>\n",
       "    <tr>\n",
       "      <th>1</th>\n",
       "      <td>1981</td>\n",
       "      <td>NaN</td>\n",
       "      <td>NaN</td>\n",
       "      <td>NaN</td>\n",
       "      <td>0.001468</td>\n",
       "      <td>0.026540</td>\n",
       "      <td>0.000825</td>\n",
       "    </tr>\n",
       "    <tr>\n",
       "      <th>2</th>\n",
       "      <td>1982</td>\n",
       "      <td>NaN</td>\n",
       "      <td>NaN</td>\n",
       "      <td>NaN</td>\n",
       "      <td>0.001598</td>\n",
       "      <td>0.028009</td>\n",
       "      <td>0.000793</td>\n",
       "    </tr>\n",
       "    <tr>\n",
       "      <th>3</th>\n",
       "      <td>1983</td>\n",
       "      <td>NaN</td>\n",
       "      <td>NaN</td>\n",
       "      <td>NaN</td>\n",
       "      <td>0.001683</td>\n",
       "      <td>0.030531</td>\n",
       "      <td>0.000764</td>\n",
       "    </tr>\n",
       "    <tr>\n",
       "      <th>4</th>\n",
       "      <td>1984</td>\n",
       "      <td>NaN</td>\n",
       "      <td>NaN</td>\n",
       "      <td>NaN</td>\n",
       "      <td>0.001744</td>\n",
       "      <td>0.031926</td>\n",
       "      <td>0.000720</td>\n",
       "    </tr>\n",
       "  </tbody>\n",
       "</table>\n",
       "</div>"
      ],
      "text/plain": [
       "   Year  Illness_crude_rate_asthma  Illness_crude_rate_copd  Cases_tb  \\\n",
       "0  1980                        NaN                      NaN       NaN   \n",
       "1  1981                        NaN                      NaN       NaN   \n",
       "2  1982                        NaN                      NaN       NaN   \n",
       "3  1983                        NaN                      NaN       NaN   \n",
       "4  1984                        NaN                      NaN       NaN   \n",
       "\n",
       "   Death_percent_asthma  Death_percent_copd  Death_percent_tb  \n",
       "0              0.001424            0.026140          0.000874  \n",
       "1              0.001468            0.026540          0.000825  \n",
       "2              0.001598            0.028009          0.000793  \n",
       "3              0.001683            0.030531          0.000764  \n",
       "4              0.001744            0.031926          0.000720  "
      ]
     },
     "execution_count": 21,
     "metadata": {},
     "output_type": "execute_result"
    }
   ],
   "source": [
    "# Combine illness incidents and mortality data into single dataset.\n",
    "\n",
    "merged_df = asthma_df.merge(copd_df, on='Year', how='outer', suffixes=('_asthma', '_copd'))\n",
    "merged_df = merged_df.merge(tb_df, on='Year', how='outer')\n",
    "merged_df = merged_df.merge(mortality_df, on='Year', how='outer')\n",
    "\n",
    "merged_df.head()\n"
   ]
  },
  {
   "cell_type": "markdown",
   "metadata": {},
   "source": [
    "This combined dataset will be saved to a csv file to be able to use later for predictive modeling."
   ]
  },
  {
   "cell_type": "code",
   "execution_count": 22,
   "metadata": {},
   "outputs": [],
   "source": [
    "# Save illness incidents and mortality data by year into a CSV file\n",
    "merged_df.to_csv('intermediary_files/respiratory_illness_mortality_data.csv', index=False)\n"
   ]
  },
  {
   "cell_type": "markdown",
   "metadata": {},
   "source": [
    "One must consider the limitations discussed through out this notebook, while using the above generated csv file."
   ]
  }
 ],
 "metadata": {
  "kernelspec": {
   "display_name": "anything",
   "language": "python",
   "name": "python3"
  },
  "language_info": {
   "codemirror_mode": {
    "name": "ipython",
    "version": 3
   },
   "file_extension": ".py",
   "mimetype": "text/x-python",
   "name": "python",
   "nbconvert_exporter": "python",
   "pygments_lexer": "ipython3",
   "version": "3.12.0"
  }
 },
 "nbformat": 4,
 "nbformat_minor": 2
}
