{
 "cells": [
  {
   "cell_type": "code",
   "execution_count": 1,
   "metadata": {},
   "outputs": [],
   "source": [
    "import pandas as pd\n",
    "from scipy.stats import pearsonr"
   ]
  },
  {
   "cell_type": "code",
   "execution_count": 2,
   "metadata": {},
   "outputs": [],
   "source": [
    "wildfire_df = pd.read_csv('intermediary_files/madison_wildfire_1964_2024.csv')\n",
    "aqi_df = pd.read_csv(\"intermediary_files/yearly_aqi_1964_2024.csv\")"
   ]
  },
  {
   "cell_type": "code",
   "execution_count": 3,
   "metadata": {},
   "outputs": [],
   "source": [
    "def calculate_smoke_estimate(row):\n",
    "    gis_acres = row['GIS_Acres']\n",
    "    assigned_fire_type = row['Assigned_Fire_Type']\n",
    "    shape_area = row['Shape_Area']\n",
    "    shape_length = row['Shape_Length']\n",
    "    shortest_dist = row['shortest_dist']\n",
    "    circleness = row['Circleness_Scale']\n",
    "\n",
    "    # Fire Intensity Factor\n",
    "    if assigned_fire_type == \"Wildfire\":\n",
    "        fire_intensity_factor = 5\n",
    "    elif assigned_fire_type == \"Likely Wildfire\":\n",
    "        fire_intensity_factor = 4\n",
    "    elif assigned_fire_type == \"Prescribed Fire\":\n",
    "        fire_intensity_factor = 5\n",
    "    elif assigned_fire_type == \"Unknown - Wildfire\":\n",
    "        fire_intensity_factor = 3\n",
    "    else:\n",
    "        fire_intensity_factor = 0.5\n",
    "\n",
    "    # Duration Factor\n",
    "    if shape_area > 1000000:\n",
    "        duration_factor = 2\n",
    "    elif shape_area > 500000:\n",
    "        duration_factor = 1.5\n",
    "    elif shape_area > 100000:\n",
    "        duration_factor = 1\n",
    "    else:\n",
    "        duration_factor = 0.5\n",
    "\n",
    "    # Wind Factor\n",
    "    wind_factor = 2 if shape_length / shape_area > 0.01 else 0.5\n",
    "\n",
    "    # Calculate Smoke Estimate\n",
    "    smoke_estimate = (gis_acres * fire_intensity_factor * duration_factor * wind_factor * circleness ) / (shortest_dist)\n",
    "\n",
    "    return smoke_estimate"
   ]
  },
  {
   "cell_type": "code",
   "execution_count": 4,
   "metadata": {},
   "outputs": [],
   "source": [
    "wildfire_df['Smoke_Estimate'] = wildfire_df.apply(calculate_smoke_estimate, axis=1)\n",
    "\n",
    "# Extract the year from Fire_Year and group by year to sum the smoke impact\n",
    "smoke_by_year = wildfire_df.groupby('Fire_Year')['Smoke_Estimate'].sum().reset_index()\n",
    "\n",
    "# Calculate annual average by dividing the annual sum by 184 (number of days betweem May to Oct)\n",
    "smoke_by_year['Smoke_Estimate'] = smoke_by_year['Smoke_Estimate']/184\n",
    "\n",
    "# Save fire year and smoke by year into a CSV file\n",
    "smoke_by_year.to_csv('intermediary_files/madison_annual_smoke_estimate_1964_2024.csv', index=False)"
   ]
  },
  {
   "cell_type": "code",
   "execution_count": 5,
   "metadata": {},
   "outputs": [
    {
     "name": "stdout",
     "output_type": "stream",
     "text": [
      "Correlation between smoke and AQI: 0.4775799486916772\n",
      "P-value of the correlation test: 0.0003942970236827778\n"
     ]
    }
   ],
   "source": [
    "# Merge smoke_df and aqi_df on the year column\n",
    "merged_df = pd.merge(smoke_by_year, aqi_df, left_on='Fire_Year', right_on='year', how='inner')\n",
    "\n",
    "correlation, p_value = pearsonr(merged_df['Smoke_Estimate'], merged_df['aqi'])\n",
    "\n",
    "print(\"Correlation between smoke and AQI:\", correlation)\n",
    "print(\"P-value of the correlation test:\", p_value)"
   ]
  }
 ],
 "metadata": {
  "kernelspec": {
   "display_name": "anything",
   "language": "python",
   "name": "python3"
  },
  "language_info": {
   "codemirror_mode": {
    "name": "ipython",
    "version": 3
   },
   "file_extension": ".py",
   "mimetype": "text/x-python",
   "name": "python",
   "nbconvert_exporter": "python",
   "pygments_lexer": "ipython3",
   "version": "3.12.0"
  }
 },
 "nbformat": 4,
 "nbformat_minor": 2
}
